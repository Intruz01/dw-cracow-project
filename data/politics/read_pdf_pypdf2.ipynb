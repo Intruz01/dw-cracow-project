{
 "cells": [
  {
   "cell_type": "code",
   "execution_count": null,
   "metadata": {},
   "outputs": [],
   "source": [
    "!conda install -c conda-forge -y PyPDF2"
   ]
  },
  {
   "cell_type": "code",
   "execution_count": 1,
   "metadata": {},
   "outputs": [],
   "source": [
    "import PyPDF2\n",
    "\n",
    "import requests, io, csv\n",
    "\n",
    "import re"
   ]
  },
  {
   "cell_type": "code",
   "execution_count": 2,
   "metadata": {},
   "outputs": [],
   "source": [
    "pdf_path = 'http://orka.sejm.gov.pl/Glos8.nsf/nazwa/86_1/$file/glos_87_1.pdf'"
   ]
  },
  {
   "cell_type": "code",
   "execution_count": 3,
   "metadata": {},
   "outputs": [],
   "source": [
    "def get_text_from_pdf_url(pdf_path):\n",
    "    '''\n",
    "    Gets textual info about a single voting\n",
    "    '''\n",
    "    text = ''\n",
    "    response = requests.get(pdf_path)\n",
    "    response.raise_for_status()        \n",
    "\n",
    "    with io.BytesIO(response.content) as open_pdf_file:\n",
    "        pdf_reader = PyPDF2.PdfFileReader(open_pdf_file)\n",
    "        num_pages = pdf_reader.getNumPages()\n",
    "\n",
    "        for page in pdf_reader.pages:\n",
    "            text += page.extractText()\n",
    "\n",
    "    return text"
   ]
  },
  {
   "cell_type": "code",
   "execution_count": 4,
   "metadata": {},
   "outputs": [],
   "source": [
    "\n",
    "def re_get_first_group( pattern, text, default='NA' ):\n",
    "    m = re.search(pattern, text)\n",
    "    return m.group(1) if m else default\n",
    "\n",
    "def get_voting_info_from_text(text):\n",
    "    '''Gets info about a single voting based on textual representation'''\n",
    "    voting_info = dict()\n",
    "    \n",
    "    voting_info['cadence'] = re_get_first_group('Sejm RP (.*?) kaden', text)\n",
    "    voting_info['sitting_id'] = re_get_first_group('POSIEDZENIE (.*?)\\.', text)\n",
    "    voting_info['voting_number'] = int(re_get_first_group('osowanie nr (.*?) ', text))\n",
    "    voting_info['voting_date'] = re_get_first_group('\\(([0-9][0-9]-[0-9][0-9]-[0-9][0-9][0-9][0-9]) ', text)\n",
    "    voting_info['voting_time'] = re_get_first_group(' ([0-9][0-9]\\:[0-9][0-9]\\:[0-9][0-9])', text)\n",
    "    voting_info['resolution_number'] = re_get_first_group('druku nr (.*?) ', text)\n",
    "    \n",
    "    return voting_info"
   ]
  },
  {
   "cell_type": "code",
   "execution_count": 5,
   "metadata": {},
   "outputs": [],
   "source": [
    "def get_votes_from_text( text ):\n",
    "    '''Gets detailed votes for a single voting out from a textual representation'''\n",
    "    votes = []\n",
    "    party = ''\n",
    "    name = ''\n",
    "\n",
    "    ignores = [\n",
    "        'PDF stworzony przez wersj. demonstracyjn. pdfFactory Pro www.pdffactory.com [0-9]',\n",
    "        '.+ \\(\\d+\\) - \\d+ ZA - \\d+ PRZECIW - \\d+ WSTRZYM. - \\d+ NIE G!OS. - \\d+'\n",
    "    ]\n",
    "    vote_words = {'za', 'pr.', 'ng.'}\n",
    "\n",
    "    for txt in text.split(' '):\n",
    "        if txt in vote_words:\n",
    "            votes.append((party, name, txt))\n",
    "            name = ''\n",
    "        elif txt == 'G!OSOWA!O':\n",
    "            party = name.split(' ')[-2]   \n",
    "        else:\n",
    "            if name != '':\n",
    "                name += ' '\n",
    "            name += txt\n",
    "\n",
    "            for ignore in ignores:\n",
    "                name = re.sub(ignore, '', name)\n",
    "\n",
    "    return votes"
   ]
  },
  {
   "cell_type": "code",
   "execution_count": 6,
   "metadata": {},
   "outputs": [],
   "source": [
    "def store_votes_to_csv( voting_info, votes, csv_file_path ):\n",
    "    '''Serialize single voting votes to csv'''\n",
    "    with open(csv_file_path, mode='w') as csv_file:    \n",
    "    \n",
    "        votes_writer = csv.DictWriter(\n",
    "            csv_file, \n",
    "            delimiter=',', quotechar='\"', quoting=csv.QUOTE_MINIMAL, \n",
    "            fieldnames= list(voting_info) + ['party', 'deputy', 'vote']\n",
    "        )\n",
    "\n",
    "        votes_writer.writeheader()\n",
    "        \n",
    "        for vote in votes:\n",
    "            votes_writer.writerow(\n",
    "                {**voting_info, 'party': vote[0], 'deputy': vote[1], 'vote': vote[2]}\n",
    "            )\n",
    "    "
   ]
  },
  {
   "cell_type": "code",
   "execution_count": 9,
   "metadata": {},
   "outputs": [],
   "source": [
    "def store_votings_to_csvs(\n",
    "    cadence=8, \n",
    "    init_sitting_id=1, \n",
    "    init_voting_number=1, \n",
    "    csv_file_pattern='voting-{cadence}_{sitting_id}_{voting_number}.csv'):\n",
    "\n",
    "    pdf_path_pattern = 'http://orka.sejm.gov.pl/Glos{cadence}.nsf/nazwa/{sitting_id}_{voting_number}/$file/glos_{sitting_id}_{voting_number}.pdf'\n",
    "\n",
    "    has_sittings = True\n",
    "    sitting_id = init_sitting_id\n",
    "\n",
    "    while has_sittings:\n",
    "        voting_number = init_voting_number\n",
    "        has_votings = True\n",
    "        is_first_voting = True\n",
    "\n",
    "        while has_votings:\n",
    "            pdf_path = pdf_path_pattern.format(cadence=cadence, sitting_id=sitting_id, voting_number=voting_number)\n",
    "\n",
    "            try:\n",
    "                text = get_text_from_pdf_url(pdf_path)\n",
    "            except  requests.exceptions.HTTPError:\n",
    "                has_votings = False\n",
    "            except Exception:\n",
    "                has_votings = False\n",
    "                raise\n",
    "\n",
    "            if has_votings:\n",
    "                is_first_voting = False            \n",
    "                voting_number += 1\n",
    "                \n",
    "                csv_path = csv_file_pattern.format(cadence=cadence, sitting_id=sitting_id, voting_number=voting_number)\n",
    "                store_votes_to_csv( \n",
    "                    get_voting_info_from_text(text), \n",
    "                    get_votes_from_text(text), \n",
    "                    csv_path \n",
    "                )\n",
    "            elif is_first_voting:\n",
    "                has_sittings = False\n",
    "\n",
    "        sitting_id += 1"
   ]
  },
  {
   "cell_type": "code",
   "execution_count": null,
   "metadata": {},
   "outputs": [],
   "source": []
  }
 ],
 "metadata": {
  "kernelspec": {
   "display_name": "Python 3",
   "language": "python",
   "name": "python3"
  },
  "language_info": {
   "codemirror_mode": {
    "name": "ipython",
    "version": 3
   },
   "file_extension": ".py",
   "mimetype": "text/x-python",
   "name": "python",
   "nbconvert_exporter": "python",
   "pygments_lexer": "ipython3",
   "version": "3.7.3"
  }
 },
 "nbformat": 4,
 "nbformat_minor": 2
}
