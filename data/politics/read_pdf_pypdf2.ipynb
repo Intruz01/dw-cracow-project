{
 "cells": [
  {
   "cell_type": "code",
   "execution_count": 0,
   "metadata": {
    "colab": {},
    "colab_type": "code",
    "id": "TgHXPcLcOWDd"
   },
   "outputs": [],
   "source": [
    "#!pip install PyPDF2\n",
    "#or\n",
    "#!conda install -c conda-forge -y PyPDF2"
   ]
  },
  {
   "cell_type": "code",
   "execution_count": 0,
   "metadata": {
    "colab": {},
    "colab_type": "code",
    "id": "OTzHd6WcOWDi"
   },
   "outputs": [],
   "source": [
    "import PyPDF2\n",
    "\n",
    "import requests, io, csv, logging\n",
    "\n",
    "import re"
   ]
  },
  {
   "cell_type": "markdown",
   "metadata": {},
   "source": [
    "## Logging"
   ]
  },
  {
   "cell_type": "code",
   "execution_count": 0,
   "metadata": {
    "colab": {},
    "colab_type": "code",
    "id": "C63inouzVzZm"
   },
   "outputs": [],
   "source": [
    "from logging.handlers import TimedRotatingFileHandler\n",
    "logger = logging.getLogger('read_pdf_pypdf2')\n",
    "logger.setLevel(logging.DEBUG)\n",
    "\n",
    "trfh = TimedRotatingFileHandler('votings/pdf_extract.log', when=\"midnight\", interval=1)\n",
    "trfh.suffix = \"%Y%m%d\"\n",
    "trfh.setLevel(logging.DEBUG)\n",
    "\n",
    "formatter = logging.Formatter('%(asctime)s - %(levelname)s - %(pathname)s:%(lineno)s - %(name)s - %(message)s')\n",
    "trfh.setFormatter(formatter)\n",
    "\n",
    "logger.addHandler(trfh)"
   ]
  },
  {
   "cell_type": "code",
   "execution_count": 0,
   "metadata": {
    "colab": {},
    "colab_type": "code",
    "id": "BR2R9OicOWDk"
   },
   "outputs": [],
   "source": [
    "#pdf_path = 'http://orka.sejm.gov.pl/Glos8.nsf/nazwa/86_1/$file/glos_87_1.pdf'"
   ]
  },
  {
   "cell_type": "markdown",
   "metadata": {},
   "source": [
    "## Functions"
   ]
  },
  {
   "cell_type": "code",
   "execution_count": 0,
   "metadata": {
    "colab": {},
    "colab_type": "code",
    "id": "sBQqiEhVOWDl"
   },
   "outputs": [],
   "source": [
    "def get_text_from_pdf_url(pdf_path):\n",
    "    '''\n",
    "    Gets textual info about a single voting\n",
    "    '''\n",
    "    text = ''\n",
    "    response = requests.get(pdf_path)\n",
    "    response.raise_for_status()        \n",
    "\n",
    "    with io.BytesIO(response.content) as open_pdf_file:\n",
    "        pdf_reader = PyPDF2.PdfFileReader(open_pdf_file)\n",
    "        num_pages = pdf_reader.getNumPages()\n",
    "\n",
    "        for page in pdf_reader.pages:\n",
    "            text += page.extractText()\n",
    "\n",
    "    return text"
   ]
  },
  {
   "cell_type": "code",
   "execution_count": 0,
   "metadata": {
    "colab": {},
    "colab_type": "code",
    "id": "t9QHHSXIOWDo"
   },
   "outputs": [],
   "source": [
    "\n",
    "def re_get_first_group( pattern, text, default='NA' ):\n",
    "    m = re.search(pattern, text)\n",
    "    return m.group(1) if m else default\n",
    "\n",
    "def get_voting_info_from_text(text):\n",
    "    '''Gets info about a single voting based on textual representation'''\n",
    "    voting_info = dict()\n",
    "    \n",
    "    voting_info['cadence'] = re_get_first_group('Sejm RP (.*?) kaden', text)\n",
    "    voting_info['sitting_id'] = re_get_first_group('POSIEDZENIE (.*?)\\.', text)\n",
    "    \n",
    "    try:\n",
    "      voting_info['voting_number'] = int(re_get_first_group('osowanie nr (.*?) ', text))\n",
    "    except:\n",
    "      logger.debug(f'Got problem when obtaining voting_number', exc_info=1)\n",
    "      \n",
    "    voting_info['voting_date'] = re_get_first_group('\\(([0-9][0-9]-[0-9][0-9]-[0-9][0-9][0-9][0-9]) ', text)\n",
    "    voting_info['voting_time'] = re_get_first_group(' ([0-9][0-9]\\:[0-9][0-9]\\:[0-9][0-9])', text)\n",
    "    voting_info['resolution_number'] = re_get_first_group('druku nr (.*?) ', text)\n",
    "    \n",
    "    return voting_info"
   ]
  },
  {
   "cell_type": "code",
   "execution_count": 0,
   "metadata": {
    "colab": {},
    "colab_type": "code",
    "id": "jMYyPsu5OWDq"
   },
   "outputs": [],
   "source": [
    "def get_votes_from_text( text ):\n",
    "    '''Gets detailed votes for a single voting out from a textual representation'''\n",
    "    votes = []\n",
    "    party = ''\n",
    "    name = ''\n",
    "\n",
    "    ignores = [\n",
    "        'PDF stworzony przez wersj. demonstracyjn. pdfFactory Pro www.pdffactory.com [0-9]',\n",
    "        '.+ \\(\\d+\\) - \\d+ ZA - \\d+ PRZECIW - \\d+ WSTRZYM. - \\d+ NIE G!OS. - \\d+'\n",
    "    ]\n",
    "    vote_words = {'za', 'pr.', 'ng.'}\n",
    "\n",
    "    for txt in text.split(' '):\n",
    "        if txt in vote_words:\n",
    "            votes.append((party, name, txt))\n",
    "            name = ''\n",
    "        elif txt == 'G!OSOWA!O':\n",
    "            party = name.split(' ')[-2]   \n",
    "        else:\n",
    "            if name != '':\n",
    "                name += ' '\n",
    "            name += txt\n",
    "\n",
    "            for ignore in ignores:\n",
    "                name = re.sub(ignore, '', name)\n",
    "\n",
    "    return votes"
   ]
  },
  {
   "cell_type": "code",
   "execution_count": 0,
   "metadata": {
    "colab": {},
    "colab_type": "code",
    "id": "_17Yzph9OWDs"
   },
   "outputs": [],
   "source": [
    "def store_votes_to_csv( voting_info, votes, csv_file_path ):\n",
    "    '''Serialize single voting votes to csv'''\n",
    "    with open(csv_file_path, mode='w') as csv_file:    \n",
    "    \n",
    "        votes_writer = csv.DictWriter(\n",
    "            csv_file, \n",
    "            delimiter=',', quotechar='\"', quoting=csv.QUOTE_MINIMAL, \n",
    "            fieldnames= list(voting_info) + ['party', 'deputy', 'vote']\n",
    "        )\n",
    "\n",
    "        votes_writer.writeheader()\n",
    "        \n",
    "        for vote in votes:\n",
    "            votes_writer.writerow(\n",
    "                {**voting_info, 'party': vote[0], 'deputy': vote[1], 'vote': vote[2]}\n",
    "            )\n",
    "    "
   ]
  },
  {
   "cell_type": "markdown",
   "metadata": {},
   "source": [
    "## the final function"
   ]
  },
  {
   "cell_type": "code",
   "execution_count": 0,
   "metadata": {
    "colab": {},
    "colab_type": "code",
    "id": "Fo-HJvWkOWDt"
   },
   "outputs": [],
   "source": [
    "def store_votings_to_csvs(\n",
    "    cadence=8, \n",
    "    init_sitting_id=1, \n",
    "    last_sitting_id=100,\n",
    "    init_voting_number=1, \n",
    "    csv_file_pattern='voting-{cadence}_{sitting_id}_{voting_number}.csv'\n",
    "):\n",
    "    '''\n",
    "    Process votings for given cadence, sitting range and optionally start from given voting number (good for incremental loads).\n",
    "    Store each voting data as a separate csv\n",
    "    '''\n",
    "  \n",
    "    logger.info(f'Start processing for: {cadence}, {init_sitting_id}, {last_sitting_id}, {init_voting_number}')\n",
    "\n",
    "    pdf_path_pattern = \n",
    "        'http://orka.sejm.gov.pl/Glos{cadence}.nsf/nazwa/{sitting_id}_{voting_number}/$file/glos_{sitting_id}_{voting_number}.pdf'\n",
    "\n",
    "    has_sittings = True\n",
    "    sitting_id = init_sitting_id\n",
    "\n",
    "    for sitting_id in range(init_sitting_id, last_sitting_id+1):\n",
    "        voting_number = init_voting_number\n",
    "        has_votings = True\n",
    "        is_first_voting = True\n",
    "\n",
    "        while has_votings:\n",
    "            pdf_path = pdf_path_pattern.format(cadence=cadence, sitting_id=sitting_id, voting_number=voting_number)\n",
    "\n",
    "            try:\n",
    "                text = get_text_from_pdf_url(pdf_path)\n",
    "            except  requests.exceptions.HTTPError:\n",
    "                has_votings = False\n",
    "            except Exception:\n",
    "                has_votings = False\n",
    "                logger.warning(\n",
    "                    f'Failed to retrieve pdf for {cadence}_{sitting_id}_{voting_number}.\\n{pdf_path}', \n",
    "                    exc_info=1)\n",
    "\n",
    "            if has_votings:\n",
    "                is_first_voting = False            \n",
    "                \n",
    "                try:\n",
    "                  csv_path = csv_file_pattern.format(\n",
    "                      cadence=cadence, sitting_id=sitting_id, voting_number=voting_number)\n",
    "                  store_votes_to_csv( \n",
    "                    get_voting_info_from_text(text), \n",
    "                    get_votes_from_text(text), \n",
    "                    csv_path \n",
    "                  )\n",
    "                except Exception as err:\n",
    "                  logger.warning(f'Failed to process pdf for {cadence}_{sitting_id}_{voting_number}.', exc_info=1)\n",
    "                else:\n",
    "                  logger.info(f'Processed pdf for {cadence}_{sitting_id}_{voting_number}.')\n",
    "                finally:\n",
    "                   voting_number += 1\n",
    "                    \n",
    "            elif is_first_voting:\n",
    "                logger.debug(f'Sitting {cadence}_{sitting_id} does not exist.')\n",
    "            else:\n",
    "                logger.debug(f'Voting {voting_number} out of bound for {cadence}_{sitting_id} sitting.')\n"
   ]
  },
  {
   "cell_type": "markdown",
   "metadata": {},
   "source": [
    "## invocation example "
   ]
  },
  {
   "cell_type": "code",
   "execution_count": 0,
   "metadata": {
    "colab": {},
    "colab_type": "code",
    "id": "6C1Eic-aOWDv"
   },
   "outputs": [],
   "source": [
    "store_votings_to_csvs(8, 86, 86, 40, 'drive/My Drive/currents/votings/voting-{cadence}_{sitting_id}_{voting_number}.csv')"
   ]
  },
  {
   "cell_type": "code",
   "execution_count": 19,
   "metadata": {},
   "outputs": [
    {
     "data": {
      "text/plain": [
       "'/data/notebooks/data/politics'"
      ]
     },
     "execution_count": 19,
     "metadata": {},
     "output_type": "execute_result"
    }
   ],
   "source": [
    "\n",
    "os.getcwd()"
   ]
  },
  {
   "cell_type": "code",
   "execution_count": 21,
   "metadata": {
    "colab": {},
    "colab_type": "code",
    "id": "2ZyEJ1edBZNi"
   },
   "outputs": [
    {
     "data": {
      "text/plain": [
       "['/data/notebooks/data/politics/ddl.sql']"
      ]
     },
     "execution_count": 21,
     "metadata": {},
     "output_type": "execute_result"
    }
   ],
   "source": [
    "import glob\n",
    "\n",
    "\n",
    "txtfiles = []\n",
    "for file in glob.glob(\"/data/notebooks/data/politics/*sql\"):\n",
    "    txtfiles.append(file)\n",
    "    \n",
    "txtfiles"
   ]
  },
  {
   "cell_type": "code",
   "execution_count": null,
   "metadata": {},
   "outputs": [],
   "source": []
  }
 ],
 "metadata": {
  "colab": {
   "name": "read_pdf_pypdf2.ipynb",
   "provenance": []
  },
  "kernelspec": {
   "display_name": "Python 3",
   "language": "python",
   "name": "python3"
  },
  "language_info": {
   "codemirror_mode": {
    "name": "ipython",
    "version": 3
   },
   "file_extension": ".py",
   "mimetype": "text/x-python",
   "name": "python",
   "nbconvert_exporter": "python",
   "pygments_lexer": "ipython3",
   "version": "3.7.3"
  }
 },
 "nbformat": 4,
 "nbformat_minor": 1
}
